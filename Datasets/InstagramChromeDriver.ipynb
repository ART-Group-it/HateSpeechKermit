{
 "cells": [
  {
   "cell_type": "markdown",
   "metadata": {},
   "source": [
    "# Select comments from public Instagram posts and covert them into pandas dataframes using Chromedriver"
   ]
  },
  {
   "cell_type": "markdown",
   "metadata": {},
   "source": [
    "**Before you start, please check:**\n",
    "* if your Chrome version is the same as the ChromeDriver version. If versions are different, download the latest versions of both tools.\n",
    "* This code was generated in July 2020. Therefore, some aspects of the code may have changed. Therefore, try to be careful and adapt the code.\n",
    "* the tags you want to select, by first inspecting the HTML page of the post using the \"Inspect\" command. Then edit the code by inserting the tags you want to extract\n",
    "\n",
    "**This code is intended as an alternative tutorial of ChromeDriver and to adapt it to the most used web pages in everyday life.\n",
    "So please don't abuse the code and remember that an heavy use of it or the extraction of certain fields, may violate the privacy of social network users.**"
   ]
  },
  {
   "cell_type": "markdown",
   "metadata": {},
   "source": [
    "### Import the libraries"
   ]
  },
  {
   "cell_type": "code",
   "execution_count": 6,
   "metadata": {},
   "outputs": [],
   "source": [
    "from selenium import webdriver\n",
    "from selenium.common.exceptions import NoSuchElementException\n",
    "import time\n",
    "import pandas as pd"
   ]
  },
  {
   "cell_type": "markdown",
   "metadata": {},
   "source": [
    "### Set the instagram posts list"
   ]
  },
  {
   "cell_type": "code",
   "execution_count": 7,
   "metadata": {},
   "outputs": [],
   "source": [
    "url_list = []\n",
    "ChromeDriver_path = ''"
   ]
  },
  {
   "cell_type": "markdown",
   "metadata": {},
   "source": [
    "### Define the final pandas lists"
   ]
  },
  {
   "cell_type": "code",
   "execution_count": 8,
   "metadata": {},
   "outputs": [],
   "source": [
    "users_comments = {}\n",
    "users_comments['comment'] = []"
   ]
  },
  {
   "cell_type": "markdown",
   "metadata": {},
   "source": [
    "### Go to selenium search"
   ]
  },
  {
   "cell_type": "code",
   "execution_count": null,
   "metadata": {},
   "outputs": [],
   "source": [
    "for url in url_list:\n",
    "    driver = webdriver.Chrome(executable_path=ChromeDriver_path)\n",
    "    driver.get(url)\n",
    "    \n",
    "    time.sleep(5)\n",
    "    \n",
    "    button = driver.find_element_by_xpath(\"//button[@class='aOOlW  bIiDR  ']\")\n",
    "\n",
    "    button.click()\n",
    "    \n",
    "    time.sleep(5)\n",
    "\n",
    "    for i in range(0,1000,1):\n",
    "        try:\n",
    "            button = driver.find_element_by_xpath(\"//span[@aria-label='Load other comments']\")\n",
    "            button.click()\n",
    "            time.sleep(1)\n",
    "        except:\n",
    "            0\n",
    "    \n",
    "    content = driver.page_source\n",
    "    comments = driver.find_element_by_class_name(\"XQXOT\").find_elements_by_class_name(\"Mr508\")\n",
    "\n",
    "    for comment in comments:\n",
    "        try:\n",
    "            d = comment.find_element_by_class_name(\"ZyFrc\").find_element_by_tag_name(\"li\").find_element_by_class_name(\"P9YgZ\").find_element_by_tag_name(\"div\")\n",
    "            d = d.find_element_by_class_name(\"C4VMK\")\n",
    "            poster = d.find_element_by_tag_name(\"h3\").text\n",
    "            post = d.find_element_by_tag_name(\"span\").text\n",
    "    \n",
    "            users_comments['comment'].append(post)\n",
    "        except:\n",
    "            0"
   ]
  },
  {
   "cell_type": "markdown",
   "metadata": {},
   "source": [
    "### Create a pandas dataframes..."
   ]
  },
  {
   "cell_type": "code",
   "execution_count": null,
   "metadata": {},
   "outputs": [],
   "source": [
    "df = pd.DataFrame([])\n",
    "\n",
    "df['comment'] = users_comments['comment']"
   ]
  },
  {
   "cell_type": "markdown",
   "metadata": {},
   "source": [
    "### ... and show it"
   ]
  },
  {
   "cell_type": "code",
   "execution_count": null,
   "metadata": {},
   "outputs": [],
   "source": [
    "df.head()"
   ]
  }
 ],
 "metadata": {
  "kernelspec": {
   "display_name": "Python 3",
   "language": "python",
   "name": "python3"
  },
  "language_info": {
   "codemirror_mode": {
    "name": "ipython",
    "version": 3
   },
   "file_extension": ".py",
   "mimetype": "text/x-python",
   "name": "python",
   "nbconvert_exporter": "python",
   "pygments_lexer": "ipython3",
   "version": "3.8.3"
  }
 },
 "nbformat": 4,
 "nbformat_minor": 4
}
